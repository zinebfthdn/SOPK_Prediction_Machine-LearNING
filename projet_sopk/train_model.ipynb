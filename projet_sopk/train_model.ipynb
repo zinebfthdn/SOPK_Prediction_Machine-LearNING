{
 "cells": [
  {
   "cell_type": "code",
   "execution_count": 4,
   "id": "3dbc39b9",
   "metadata": {},
   "outputs": [
    {
     "name": "stdout",
     "output_type": "stream",
     "text": [
      "Accuracy: 92.47%\n"
     ]
    },
    {
     "data": {
      "text/plain": [
       "['model_pcos.pkl']"
      ]
     },
     "execution_count": 4,
     "metadata": {},
     "output_type": "execute_result"
    }
   ],
   "source": [
    "import pandas as pd\n",
    "from sklearn.model_selection import train_test_split\n",
    "from sklearn.ensemble import RandomForestClassifier\n",
    "from sklearn.metrics import accuracy_score\n",
    "import joblib\n",
    "\n",
    "# Chargement\n",
    "df = pd.read_csv(\"PCOS_DATA.csv\")\n",
    "df.columns = df.columns.str.strip()\n",
    "\n",
    "# Renommage correct des colonnes\n",
    "df.rename(columns={\n",
    "    'Age (in Years)': 'Age',\n",
    "    'Weight (in Kg)': 'Weight',\n",
    "    'Height (in Cm / Feet)': 'Height',\n",
    "    'Can you tell us your blood group ?': 'BloodGroup',\n",
    "    'After how many months do you get your periods?\\n(select 1- if every month/regular)': 'PeriodGap',\n",
    "    'Have you gained weight recently?': 'WeightGain',\n",
    "    'Do you have excessive body/facial hair growth ?': 'HairGrowth',\n",
    "    'Are you noticing skin darkening recently?': 'SkinDarkening',\n",
    "    'Do have hair loss/hair thinning/baldness ?': 'HairLoss',\n",
    "    'Do you have pimples/acne on your face/jawline ?': 'Pimples',\n",
    "    'Do you eat fast food regularly ?': 'FastFood',\n",
    "    'Do you exercise on a regular basis ?': 'Exercise',\n",
    "    'Have you been diagnosed with PCOS/PCOD?': 'PCOS',\n",
    "    'Do you experience mood swings ?': 'MoodSwings',\n",
    "    'Are your periods regular ?': 'RegularPeriods',\n",
    "    'How long does your period last ? (in Days)\\nexample- 1,2,3,4.....': 'PeriodDuration'\n",
    "}, inplace=True)\n",
    "\n",
    "# Colonnes booléennes\n",
    "bool_columns = ['WeightGain', 'HairGrowth', 'SkinDarkening', 'HairLoss', 'Pimples',\n",
    "                'FastFood', 'Exercise', 'MoodSwings', 'RegularPeriods']\n",
    "\n",
    "# Caractéristiques utilisées\n",
    "features = ['Age', 'Weight', 'Height', 'PeriodGap', 'PeriodDuration'] + bool_columns\n",
    "\n",
    "# Nettoyage\n",
    "df = df[features + ['PCOS']].dropna()\n",
    "\n",
    "# Conversion de la cible en 0 ou 1\n",
    "df['PCOS'] = df['PCOS'].apply(lambda x: 1 if str(x).lower() in ['yes', '1', 'true'] else 0)\n",
    "\n",
    "# Séparation X/y\n",
    "X = df[features]\n",
    "y = df['PCOS']\n",
    "\n",
    "# Split train/test\n",
    "X_train, X_test, y_train, y_test = train_test_split(X, y, test_size=0.2, random_state=42)\n",
    "\n",
    "# Modèle Random Forest\n",
    "model = RandomForestClassifier()\n",
    "model.fit(X_train, y_train)\n",
    "\n",
    "# Évaluation\n",
    "accuracy = accuracy_score(y_test, model.predict(X_test))\n",
    "print(f\"Accuracy: {accuracy * 100:.2f}%\")\n",
    "\n",
    "# Sauvegarde\n",
    "joblib.dump(model, \"model_pcos.pkl\")\n"
   ]
  },
  {
   "cell_type": "code",
   "execution_count": null,
   "id": "03e9ec63",
   "metadata": {},
   "outputs": [],
   "source": [
    "df.head()\n"
   ]
  }
 ],
 "metadata": {
  "kernelspec": {
   "display_name": ".venv",
   "language": "python",
   "name": "python3"
  },
  "language_info": {
   "codemirror_mode": {
    "name": "ipython",
    "version": 3
   },
   "file_extension": ".py",
   "mimetype": "text/x-python",
   "name": "python",
   "nbconvert_exporter": "python",
   "pygments_lexer": "ipython3",
   "version": "3.12.2"
  }
 },
 "nbformat": 4,
 "nbformat_minor": 5
}
